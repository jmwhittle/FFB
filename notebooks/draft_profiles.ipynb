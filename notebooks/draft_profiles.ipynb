{
 "cells": [
  {
   "cell_type": "code",
   "execution_count": null,
   "id": "68c5d33e",
   "metadata": {},
   "outputs": [],
   "source": [
    "import sys\n",
    "sys.path.append(\"..\")\n",
    "\n",
    "from src.utils.pgsql import pg_df\n",
    "import pandas as pd\n",
    "import numpy as np\n",
    "import json"
   ]
  },
  {
   "cell_type": "code",
   "execution_count": null,
   "id": "702317da",
   "metadata": {},
   "outputs": [
    {
     "name": "stdout",
     "output_type": "stream",
     "text": [
      "scoring_settings: 0    {'sack': 1.0, 'fgm_40_49': 4.0, 'pass_int': -2...\n",
      "Name: scoring_settings, dtype: object points\n"
     ]
    }
   ],
   "source": [
    "# import league specific scoring rules\n",
    "rules_df = pg_df(\n",
    "    \"SELECT scoring_settings FROM leagues WHERE id = '1260107285024219136'\"\n",
    "    )\n",
    "\n",
    "# If it's a string, parse it as JSON\n",
    "if isinstance(rules_df, str):\n",
    "    scoring_dict = json.loads(rules_df)\n",
    "else:\n",
    "    scoring_dict = rules_df\n",
    "\n",
    "for rule, points in scoring_dict.items():\n",
    "    print(f\"{rule}: {points} points\")"
   ]
  },
  {
   "cell_type": "code",
   "execution_count": null,
   "id": "3433d079",
   "metadata": {},
   "outputs": [
    {
     "data": {
      "text/plain": [
       "Index(['player_id', 'season', 'week', 'player_name', 'player_display_name',\n",
       "       'position', 'position_group', 'recent_team_old', 'opponent_team',\n",
       "       'season_type', 'completions', 'attempts', 'passing_yards',\n",
       "       'passing_tds', 'interceptions', 'sacks', 'sack_yards', 'sack_fumbles',\n",
       "       'sack_fumbles_lost', 'passing_air_yards', 'passing_yards_after_catch',\n",
       "       'passing_first_downs', 'passing_epa', 'passing_2pt_conversions',\n",
       "       'carries', 'rushing_yards', 'rushing_tds', 'rushing_fumbles',\n",
       "       'rushing_fumbles_lost', 'rushing_first_downs', 'rushing_epa',\n",
       "       'rushing_2pt_conversions', 'targets', 'receptions', 'receiving_yards',\n",
       "       'receiving_tds', 'receiving_fumbles', 'receiving_fumbles_lost',\n",
       "       'receiving_air_yards', 'receiving_yards_after_catch',\n",
       "       'receiving_first_downs', 'receiving_epa', 'receiving_2pt_conversions',\n",
       "       'special_teams_tds', 'fantasy_points', 'fantasy_points_ppr',\n",
       "       'target_share', 'air_yards_share', 'wopr', 'created_at', 'updated_at',\n",
       "       'headshot_url', 'recent_team', 'pacr', 'racr', 'dakota',\n",
       "       'next_season_point'],\n",
       "      dtype='object')"
      ]
     },
     "execution_count": 25,
     "metadata": {},
     "output_type": "execute_result"
    }
   ],
   "source": [
    "# analysing seasonal data looking at prior seasons correlation to the following season\n",
    "weekly_df = pg_df(\"\"\"\n",
    "    SELECT * \n",
    "    FROM nfl_weekly_stats \n",
    "    WHERE season >= 2010\n",
    "    AND season_type = 'REG'\n",
    "    \"\"\")\n",
    "\n",
    "# create seasonal aggregation\n",
    "season_cols = [\n",
    "'player_id', 'season', 'player_name',\n",
    "'position', 'position_group', 'recent_team_old', \n",
    "\n",
    "       'completions', 'attempts', \n",
    "       'passing_yards','passing_tds', 'interceptions', \n",
    "       'passing_first_downs', 'passing_2pt_conversions',\n",
    "\n",
    "       'carries', 'rushing_yards', \n",
    "       'rushing_tds', 'rushing_fumbles',\n",
    "       'rushing_fumbles_lost', 'rushing_first_downs', \n",
    "       'rushing_2pt_conversions', \n",
    "\n",
    "       'targets', 'receptions', \n",
    "       'receiving_yards', 'receiving_tds', \n",
    "       'receiving_fumbles', 'receiving_fumbles_lost',\n",
    "       'receiving_first_downs', 'receiving_2pt_conversions'\n",
    "\n",
    "]\n",
    "\n",
    "# weekly to seasonal aggregation\n",
    "season_df = weekly_df[season_cols].groupby(['player_id', 'season', 'player_name', 'position', 'position_group', 'recent_team_old']).agg('sum').reset_index()\n",
    "\n",
    "# creating a next_season_point\n",
    "# season_df['next_season_point'] = season_df['season'].shift(-1)\n",
    "\n",
    "# creating a correlation matrix\n",
    "# correlation_matrix = season_df.corr()\n",
    "# season_df.columns\n",
    "season_df.head()\n"
   ]
  },
  {
   "cell_type": "code",
   "execution_count": null,
   "id": "a28878ed",
   "metadata": {},
   "outputs": [],
   "source": []
  }
 ],
 "metadata": {
  "kernelspec": {
   "display_name": ".venv",
   "language": "python",
   "name": "python3"
  },
  "language_info": {
   "codemirror_mode": {
    "name": "ipython",
    "version": 3
   },
   "file_extension": ".py",
   "mimetype": "text/x-python",
   "name": "python",
   "nbconvert_exporter": "python",
   "pygments_lexer": "ipython3",
   "version": "3.13.1"
  }
 },
 "nbformat": 4,
 "nbformat_minor": 5
}
